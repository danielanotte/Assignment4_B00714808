1. Show your data: Each individual data point is visible and clear, legend is provided to indicate player position.
2. Avoid chartjunk: No unnecessary graphics used, only included details needed to visualize results.
3. Use labels: Used labels to highlight the top point share earner in each position by adding their name to the plot.
4. Utilize colour: Used different coloured points and labels to represent different positions.
5. Utilize micro/macro: The label of the overall leading point share earner, Frederik Andersen, was put in bold and italics to distinguish it from the other labels. 
6. Utilize data-ink: Removed plot and legend borders to conserve ink.