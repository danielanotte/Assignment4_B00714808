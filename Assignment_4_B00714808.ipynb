library(rvest)
library(dplyr)
webdata <- read_html("https://www.hockey-reference.com/teams/TOR/2018.html")
stats = webdata %>% html_nodes('table') %>% .[[3]] %>% html_table() 
colnames(stats) = stats[1, ]
stats2 = stats[-1, ]
stats3 <- data.frame(stats2$Player, stats2$Pos, stats2$GP, stats2$PS)
stats4 <- stats3 %>% rename(Player=stats2.Player, Pos=stats2.Pos, GP=stats2.GP, PS=stats2.PS)
stats4$GP <-as.numeric(as.character(stats4[,3]))
stats4$PS <-as.numeric(as.character(stats4[,4]))
stats5 <- filter(stats4, GP>10)
stats5 <- filter(stats5, Player!='Team Total')
stats6 <- stats5 %>% arrange(desc(PS))
stats6
colour <- c("#ECBC04", "#130D17", "#2118A2", "#BF4031", "#D0C9F2")
position <- c("C", "D", "G", "LW", "RW")
na.omit(match(stats6$Pos, position))
match
tiff('plot1.tiff', width=3.5, height=3.5, units="in", res = 300, family='sans', pointsize=7, compression='none')
par(bty='n')
plot(stats6$PS, xlab="Rank", ylab="Point shares", pch=25, col=colour[na.omit(match(stats6$Pos, position))], bg=colour[na.omit(match(stats6$Pos, position))])
legend("topright", c("C", "D", "G", "LW", "RW"), text.col=c("#ECBC04", "#130D17", "#2118A2", "#BF4031", "#D0C9F2"), col=c("#ECBC04", "#130D17", "#2118A2", "#BF4031", "#D0C9F2"), pt.bg=c("#ECBC04", "#130D17", "#2118A2", "#BF4031", "#D0C9F2"), pch=25, xpd=TRUE, bty='n')
text(1, 13.6, labels="Frederik Andersen", pos=4, font=4, col="#2118A2")
text(2, 9, labels="Auston Matthews", pos=4, col="#ECBC04")
text(3, 7.8, labels="Jake Gardiner", pos=4, col="#130D17")
text(4, 7.2, labels="JVR", pos=4, col="#BF4031") # JVR = James van Riemsdyk
text(19, 2.1, labels="Connor Brown", pos=4, col="#D0C9F2")
axis(side=1, at=seq(0, 25, by=5))
dev.off()